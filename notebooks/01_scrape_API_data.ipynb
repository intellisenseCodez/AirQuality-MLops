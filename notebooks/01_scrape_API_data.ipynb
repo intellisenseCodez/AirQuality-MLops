{
 "cells": [
  {
   "cell_type": "markdown",
   "metadata": {},
   "source": [
    "# Historical Air Quality Dataset (2020 - 2025)\n",
    "Collect Historical Dataset on Air Population from [OpenWeather API](https://openweathermap.org/api/air-pollution)"
   ]
  },
  {
   "cell_type": "code",
   "execution_count": 1,
   "metadata": {},
   "outputs": [
    {
     "name": "stdout",
     "output_type": "stream",
     "text": [
      "/Users/macbook/Desktop/horlarDEV/Air_MLOPs/data\n"
     ]
    }
   ],
   "source": [
    "# import libraries \n",
    "import os\n",
    "from pathlib import Path\n",
    "from datetime import datetime\n",
    "import sys\n",
    "import requests\n",
    "import pandas as pd\n",
    "import json\n",
    "from dotenv import load_dotenv\n",
    "\n",
    "\n",
    "sys.path.insert(0, str(Path().resolve().parent / \"src\"))\n",
    "\n",
    "from paths import  PARENT_DIR, RAW_DATA_DIR\n",
    "\n",
    "# load environment\n",
    "load_dotenv()\n",
    "\n",
    "\n",
    "API_KEY = os.getenv(\"OPEN_WEATHER_API_KEY\") # open weather API key.\n",
    "\n",
    "\n",
    "# Lagos latitude and longitude\n",
    "LATITUDE = 6.5244\n",
    "LONGITUDE = 3.3792"
   ]
  },
  {
   "cell_type": "code",
   "execution_count": 5,
   "metadata": {},
   "outputs": [],
   "source": [
    "def fetch_hourly_weather_data_from_API(start_date: str, end_date:str) -> str:\n",
    "    \n",
    "    \"\"\"\n",
    "    Fetch raw weather data from the OPENWEATHER API for the specified date.\n",
    "\n",
    "    Parameters:\n",
    "        start_date (int): start date of the data.\n",
    "        end_date (int): end date of the data.\n",
    "\n",
    "    Returns:\n",
    "        pd.DataFrame: A DataFrame containing the fetched data.\n",
    "    \"\"\"\n",
    "    \n",
    "    start = datetime.strptime(start_date, \"%Y-%m-%d\")\n",
    "    end = datetime.strptime(end_date, \"%Y-%m-%d\")\n",
    "    \n",
    "    # API URL and parameters\n",
    "    URL = \"http://api.openweathermap.org/data/2.5/air_pollution/history\"\n",
    "    params = {\n",
    "        \"lat\": LATITUDE,\n",
    "        \"lon\": LONGITUDE,\n",
    "        \"start\": int(start.timestamp()),\n",
    "        \"end\": int(end.timestamp()),\n",
    "        \"appid\": API_KEY\n",
    "    }\n",
    "\n",
    "    \n",
    "    try:\n",
    "        # Make GET request\n",
    "        response = requests.get(URL, params=params)\n",
    "        response.raise_for_status()  # Raise HTTPError for bad responses\n",
    "\n",
    "        # Parse JSON response\n",
    "        data = response.json()\n",
    "        \n",
    "        \n",
    "        if not Path(RAW_DATA_DIR).exists():\n",
    "            os.mkdir(RAW_DATA_DIR)\n",
    "        \n",
    "        file_path = RAW_DATA_DIR / f\"weather_{start.strftime('%Y%m%d')}_to_{end.strftime('%Y%m%d')}.json\"\n",
    "        \n",
    "        # Save JSON response to a file\n",
    "        with open(file_path, 'w') as f:\n",
    "            json.dump(data, f, indent=4)\n",
    "            \n",
    "\n",
    "        print(f\"Data successfully fetched and saved to {file_path}\")    \n",
    "            \n",
    "    except requests.exceptions.RequestException as e:\n",
    "        print(f\"Error fetching data: {e}\")"
   ]
  },
  {
   "cell_type": "code",
   "execution_count": 13,
   "metadata": {},
   "outputs": [
    {
     "name": "stdout",
     "output_type": "stream",
     "text": [
      "Collecting weather data from API ...\n",
      "Data successfully fetched and saved to /Users/macbook/Desktop/horlarDEV/Air_MLOPs/data/bronze/weather_20200101_to_20250201.json\n"
     ]
    }
   ],
   "source": [
    "if __name__ == \"__main__\":\n",
    "    # start date \n",
    "    START_DATE = \"2020-1-1\"\n",
    "    END_DATE = \"2025-02-01\"\n",
    "    \n",
    "    print(f\"Collecting weather data from API ...\") \n",
    "\n",
    "    fetch_hourly_weather_data_from_API(start_date=START_DATE, end_date=END_DATE)"
   ]
  }
 ],
 "metadata": {
  "kernelspec": {
   "display_name": "base",
   "language": "python",
   "name": "python3"
  },
  "language_info": {
   "codemirror_mode": {
    "name": "ipython",
    "version": 3
   },
   "file_extension": ".py",
   "mimetype": "text/x-python",
   "name": "python",
   "nbconvert_exporter": "python",
   "pygments_lexer": "ipython3",
   "version": "3.11.4"
  }
 },
 "nbformat": 4,
 "nbformat_minor": 2
}
