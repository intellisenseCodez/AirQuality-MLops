{
 "cells": [
  {
   "cell_type": "markdown",
   "metadata": {},
   "source": [
    "# Historical Air Quality Dataset (2020 - 2025)\n",
    "Collect Historical Dataset on Air Population from [OpenWeather API](https://openweathermap.org/api/air-pollution)"
   ]
  },
  {
   "cell_type": "code",
   "execution_count": 4,
   "metadata": {},
   "outputs": [],
   "source": [
    "# import libraries \n",
    "import os\n",
    "from pathlib import Path\n",
    "from datetime import datetime\n",
    "import sys\n",
    "import requests\n",
    "import pandas as pd\n",
    "import json\n",
    "from dotenv import load_dotenv\n",
    "\n",
    "\n",
    "sys.path.insert(0, str(Path().resolve().parent / \"src\"))\n",
    "\n",
    "from paths import  *\n",
    "from components.extract_air_data_api import *"
   ]
  },
  {
   "cell_type": "code",
   "execution_count": 6,
   "metadata": {},
   "outputs": [
    {
     "name": "stdout",
     "output_type": "stream",
     "text": [
      "Collecting weather data from API ...\n",
      "Data successfully fetched and saved to /Users/macbook/Desktop/horlarDEV/Air_MLOPs/data/raw_data/Air_Quality_20200101_to_20250201.csv\n"
     ]
    }
   ],
   "source": [
    "if __name__ == \"__main__\":\n",
    "    # start date \n",
    "    START_DATE = \"2020-1-1\"\n",
    "    END_DATE = \"2025-02-01\" \n",
    "    \n",
    "    print(f\"Collecting weather data from API ...\") \n",
    "\n",
    "    # extract air quality historical dataset\n",
    "    extract_and_load_historical_air_pollution_data(start_date=START_DATE, end_date=END_DATE)"
   ]
  },
  {
   "cell_type": "code",
   "execution_count": null,
   "metadata": {},
   "outputs": [],
   "source": []
  }
 ],
 "metadata": {
  "kernelspec": {
   "display_name": "base",
   "language": "python",
   "name": "python3"
  },
  "language_info": {
   "codemirror_mode": {
    "name": "ipython",
    "version": 3
   },
   "file_extension": ".py",
   "mimetype": "text/x-python",
   "name": "python",
   "nbconvert_exporter": "python",
   "pygments_lexer": "ipython3",
   "version": "3.11.4"
  }
 },
 "nbformat": 4,
 "nbformat_minor": 2
}
